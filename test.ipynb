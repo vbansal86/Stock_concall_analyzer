{
 "cells": [
  {
   "cell_type": "code",
   "execution_count": 11,
   "metadata": {},
   "outputs": [
    {
     "data": {
      "text/plain": [
       "True"
      ]
     },
     "execution_count": 11,
     "metadata": {},
     "output_type": "execute_result"
    }
   ],
   "source": [
    "import assemblyai as aai\n",
    "import os\n",
    "from dotenv import load_dotenv\n",
    "load_dotenv()"
   ]
  },
  {
   "cell_type": "code",
   "execution_count": null,
   "metadata": {},
   "outputs": [],
   "source": [
    "print(os.environ.get(\"ASSEMBLY_API_KEY\"))"
   ]
  },
  {
   "cell_type": "code",
   "execution_count": 13,
   "metadata": {},
   "outputs": [],
   "source": [
    "\n",
    "aai.settings.api_key = os.environ.get(\"ASSEMBLY_API_KEY\")\n",
    "transcriber = aai.Transcriber()\n",
    "\n",
    "transcript = transcriber.transcribe(\"https://karnatakabank.com/sites/default/files/2024-05/tkb0220240524153240_1.mp3\")\n",
    "# transcript = transcriber.transcribe(\"./my-local-audio-file.wav\")\n"
   ]
  },
  {
   "cell_type": "code",
   "execution_count": 32,
   "metadata": {},
   "outputs": [
    {
     "data": {
      "text/plain": [
       "0.914397313316422"
      ]
     },
     "execution_count": 32,
     "metadata": {},
     "output_type": "execute_result"
    }
   ],
   "source": [
    "transcript.confidence"
   ]
  },
  {
   "cell_type": "code",
   "execution_count": 28,
   "metadata": {},
   "outputs": [],
   "source": [
    "transcript_chunks = transcript.get_paragraphs()"
   ]
  },
  {
   "cell_type": "code",
   "execution_count": 38,
   "metadata": {},
   "outputs": [
    {
     "data": {
      "text/plain": [
       "580"
      ]
     },
     "execution_count": 38,
     "metadata": {},
     "output_type": "execute_result"
    }
   ],
   "source": [
    "len(transcript_chunks[7].text)"
   ]
  },
  {
   "cell_type": "code",
   "execution_count": 14,
   "metadata": {},
   "outputs": [
    {
     "name": "stdout",
     "output_type": "stream",
     "text": [
      "Ladies and gentlemen, good day and welcome to Q four FY 2024 earnings conference call hosted by Karnataka bank. As a reminder, all participant lines will be in the listen only mode and there will be an opportunity for you to ask questions after the presentation concludes. Should you need assistance during the conference call, please signal an operator by pressing zero on a touchstone phone. Please note that this conference is being recorded. I now hand the conference over to Mister Sri Krishnan H, managing director and CEO from Karnataka bank. Thank you and over to you sir. Thank you so much Zika and good evening ladies and gentlemen. This is Sri Krishnan MD, CEO of Karnataka Bank. I am joined here by Shekhar Rao who is our executive director, CFO Abhishek Babchi, COO Balachandra and chief business officer Gokul Das Pai. Welcome to this Karnataka Bank Q four FY 24 annual results and Q four call. We have had an excellent financial year with growth registered across all the key metrics. As I've mentioned in the last couple of quarters, the key metrics that are critical to us that will define the bank's performance for the entire financial year would be growth in advances, aggregate deposits, improvement in quality of our advances, book favorable Roe and ROA for the stakeholders and we are glad to present that we are on the right growth path as we are moving forward. I'm also pleased to announce that we completed our capital raising program, an ambitious program of 1500 crores in a record six months time and this was concluded prior to the financial year ending March 31. And this is by way of preferential allotment of 900 crores and a 600 crore QIP which was very overwhelmingly subscribed and we have had some very good quality institutional investors in the bank. We also had the opportunity to do the call option on tier two bonds and we exercised this in the entire financial year between November and February, totaling 720 crores, which was an coupon of 12% interest rate. So it was very beneficial as we will go forward with this benefit when we start this new year. So brief comments on the numbers which have already been uploaded to the website as well as this is a stock exchange as well as our own website which is the investor presentation. We have had the highest business turnover in the history of the bank. We have crossed 171 thousand crores. We are up by 15% on a year on y basis from March 23. Our profit after tax packed has been an alltime high again 13 6.29 crores as against 1180.24 crores in last year and increase of 11% and it is also to record that during the last quarter we have had a one time provision which is basically the actuarial provision for long term retirement benefits due to the revision in the 12th bipartite wage revision agreement that was amounting to rupees 152 crores. So this is a one time. It's not a recurring issue. And the other thing was we celebrated our centenary year this in February a couple of months ago, and during the centenary year, a lot of celebration at our branches and regions. So this was again a one time expense of about eleven crores. So if you total this up, our total one time expense, which is not going to recur, is 163 crores. So the bank recorded a profit of 274 crores after taking into account this one time expenses of 163 crores, which would have been higher. 274 plus 163 is what, you know, we need to really count in terms of the running rate. As far as the bank is concerned, this is by far very encouraging as far as our entire growth path is concerned. The good part is about the key metrics that I'm going to call out right now. One is about gross advances. Our advances book grew by closer to 20% 19% and plus our gross advances as of March 31, 2024 stood at 73,001.66 as against the last year of 61,302.78, recording, as I said, a 19 plus percent growth. Now this is much more than the market is ahead of the market. The market is believably growing at about 15% to 16%. So this is good news in terms of making sure that we are growing our overall book, our aggregate deposit to support the growth in the advances also grew very well. We closed the year with 98,058 crores as on March 2024 as against 87,368, a jump which is again at about closer to 12%. And this is again with a very good ratio of Casa which stood at about 32% of the aggregate deposits. So between the retail term deposits and the retail Casa and the overall corporate deposits that we have had, which is actually very, very minimum, we have been growing this book very well. All the branches are kicking in and it has been an all round growth in terms of our deposits as well as advances. I will also talk about the constitution of each of this. Because of this healthy growth, our cd ratio has been enhanced to 75%. It's a continuously improving ratio. And quarter on quarter over the last financial year we have been growing in this area. The good news is also on the stressed assets. The net NPA has improved to 1.58% from 1.7% in March and gross NPA has improved from two 3.53% from 3.74%. But this is not all. The gross slippages has come down to 2.8% which is a major improvement from the last financial year which was standing at 3.31%. The overall standard restructured advances and also the GNP if we total it up, and this is without the related accounts, our gross advances number compared to a March 22 was 9.51% as a percentage of GNPA plus restructured and as of March 23 it was 7.14 and as of March 24 we have come down to 5.31. So this is a very healthy trend as far as the bank is concerned because all the concerns that we had about the historical book are more or less coming under control. But there is still some way to go which we are working very hard and we'll make sure that we are in the right trajectory as far as this ratio is concerned. We had a good recovery here. We recovered almost 277 crores and this is more or less in line with what was happening the last year also. So this is again a reflection of the fact that the collateral based lending that the bank has done has yielded results even when it came to recoveries. Our PCR, the provision coverage ratio is standing at 79% and at similar level compared to the last year. So we maintain the same and the core provisions without technical write off stands at about 56%. It's improved by 100 bps compared to March FY 23. Our NII stood at 834 crores for the last quarter. It's marginally increased. And our NIM, which is the more important metric, we stand at about 3.51% which is in line with the guidance that we have given of 3.5 to 3.7%. Now, despite the increase in cost of deposit across the banking industry for the last two quarters, obviously that had put the pressure on NIM. We are happy to report that our loan yields have continued to be at the same level at 9.9%. So the NIM, which is made of a couple of bits, has really not been impacted because it has been more out of the cost of funds, which has increased from 4.74 to about 5.22 in March 24. Now, we have launched a lot of initiatives to gain the benefit of Casa. So we are a bank which can collect direct taxes, which can collect GST and also customs duty. And we have also inducted a whole lot of over 650 sales officers with feet on street for covering key markets and target segments. So the strong retail franchise of over 935 branches in Karnataka and across the country have definitely provided access to low cost deposits. We are not in the bulk deposit market and that again is a reflection that all our term deposits, 90% plus, are lesser than two crores, which is again a good metric to have and we are by far comfortable on this. Our credit cost has improved to 0.84% compared to a 1.48% last year. And again here this is reflection of the fact that our overall efficiencies have increased and our cost of delivery has also kind of impacted positively our cost to income ratio. I had reported this in a couple of quarters ever since we took charge, saying that there will be a temporary increase which has been reflected. So it has increased to 53%. But as guidance for this financial year, by the end of this financial year, four quarters from now, we should see sub 50 or closer to 50, which again would be due to a lot of rationalization, a lot of digitized processes and we make sure that our cost is under control. But this is a temporary bliss which is primarily due to recruitment of people, investment into technology, platforms and infrastructure. Our ROE is very healthy. Despite an increase of 1500 crores of base, we are about 13.71%, obviously lesser than the last year, 15.42. But again, this will improve as this is a one time impact due to this capital raise that has happened on the last quarter of the financial year. The ROA has been maintained at about 1.22%. Our guidance has been 1.2 to 1.4. We are sticking to that guidance. So this is again good news as far as the investors and the stakeholders are concerned. The capital adequacy ratio stands at 18% with a breakup of 16.17% in tier one and 1.83% in tier two. And this is again very clearly reflected due to our capital raise. It's a substantial improvement, giving us good headroom as far as the growth is concerned. So the capital that we have raised will be used for funding growth in the book via advances because of the fact that we need to be maintaining a very healthy capital adequacy ratio, then rest of it is going to be primarily for investments into digital technology and all of the infrastructure along with the people that are required for repositioning this bank. And as you are aware, we launched a campaign in the last quarter coinciding with our centenary year to reposition our bank as Apka Karnataka Bank, Bharat ka Karnataka bank. So this is something where despite the fact that we have two thirds of our branches in Karnataka and the interior locations in Karnataka. We are very well covered nationally with 22 states and two union territories being represented. And these are all mainly urban branches. We believe that in the next couple of quarters and years, we would actually have a 50 50 mix between Karnataka and non Karnataka business. So on this note, I would like to conclude the initial commentary and introduction from the bank related to the results and would request our coordinator to pass on any questions calls that would already have got queued. Thank you once again for joining. And over to you, Ziko. Thank you very much. We will now begin the question and answer session. Anyone who wishes to ask a question may press star and one on the touchstone telephone. If you wish to remove yourself from the question queue, you may press star. And two participants are requested to use handhelds while asking a question. Ladies and gentlemen, we will wait for a moment while the question queue assembles. The first question is from the line of Sandeep, who is an investor. Please go ahead. Good evening, Sandeep. Sir, good evening. Thanks for the excellent result and thanks for your leadership. I really appreciate the way you are taking the bank forward. Sir, my question is, with regard to the celebrations of 100 years. Why did you not give investors a chance to celebrate with the bonus? Sir? Sandeep, you know, we have considered this, and we are also happy to announce that the board has recommended a dividend of 55% today. And this will be recommended to the shareholders for approval. And this is much more than the 50% which was declared last year. And this is on the higher capital base that we have actually enhanced now. So this is indeed a way to celebrate with our retail shareholders. And along with the other new shareholders, the institutions will come in. So this is the first guest from our side related to 55% dividend today. Thank you, sir. Just one more question. In terms of the net npas, you did mention that it has come down to 1.53%. Is that correct? Yes, please. And, sir, in terms of recovery, are there any large recoveries expected in the next two quarters? So what we have done, just to correct you, it is 1.58% on the net NPA, yes. You know, as you are aware, about 35% of our entire book is on the NPA. Book I'm talking about is covered with collateral. So sorry, 75% is covered with collateral. So as a result, you know, the recoverability is very high when it comes to this. In terms of some of the larger recoveries. The last year, we had sold to a couple of arcs and we had also done many one time settlement which was in excess of 50 and 70 crores and so on. But our average ticket size in terms of either OT's or recoveries or whatever has the sweet spot has always been up to 50 crores and granular. So the data related to this is being uploaded in our website along with our investor presentation. Thank you. I think the participant has dropped out. Sir, may we go to the next question? Yes, please. The next question is from the line of Darshan Deora from invest group. Please go ahead. Thank you for the opportunity and great set of results. Just wanted to get some more color on the NIM. So I see that our NIM has a little bit downwards between q three and q four. Just want to also get your guidance for FY 25 on the nims. Yes. Darshan, good evening. Just to kind of reiterate, there are two parts, which is our overall loan yield as well as our cost of funds. Cost of funds because of the liquidity, lack of liquidity rather than the market, as you are aware. And there are lots of this bulk deposits and flight into other opportunities or on investments because of the interest rate scenario. So the bank deposits, it's not only us, but across the banking system, has been under pressure. So our cost of funds was no exception. So it has moved up as far as our overall cost of funds, but it is under control at 5.33%. That's one. Secondly, the good news is that our loan yield has not come down. We were always at the 9.9 to 9.99% in the last couple of quarters. So even in this scenario, we believe that we have done well as far as the loan yield is concerned going forward, the constitution of our gross advances, there's going to be a lot more focus on retail and which is obviously high yielding compared to what otherwise was done, and also our focus on Ram, which is retail. Agree. And MSME. Again, all the three will continue to have the same ratio along with SME. This constitutes almost two thirds of our book. And we have been definitely, you know, firing all our engines, which is the region, the clusters and the branches. So we believe that we will continue to grow and the NIM would continue to be at the same 3.5 to 3.7 range. Got it. Got it. And just, you know, obviously, congratulations on the loan growth. I mean, 19% is a very enviable number and it is completely in line with what you had said, you know, at the start of the year, most of this growth has come from which sector, though? Is it more from BPL is it from big corporate or large profit? So we maintain the ratio more or less at the same level. Darshan. So about 46% of our book is basically retail and agree. And another about closer to 20% has been this SME and mid size corporates. And about a third of our book is large corporate. Again, this large corporate. We have, you know, institutions as well as corporates who are banking with us. But going forward, the growth will continue to be at the same, more or less at the same kind of mix. But having said that, the retail growth and the MSME growth is something which is looking more promising. And we also believe that there will be some substitution in the large corporate deposit where it has been more opportunistic lending because of the fact that our cd ratio has some headroom. And we would probably replace that with midsize corporate lending. And we also have the opportunity to grow multiple products and that would have a positive impact on the ROA. So the churn will be there more at the large corporate end. And the rest of the three major focus sectors, ram sectors, would continue to grow. So our growth path, if we continue the same way at about 18% to 20%, which has been the stated objective. So we believe that somewhere between the 18% growth, we would be anywhere closer to about 90,000 crores as of the year end. FY 25 exit. FY 25. That's great to hear, sir. And one last question on the cd ratio. So we have slowly inched our way towards 95%, rising every quarter. Have you sort of reached the optimal level or can we also aim for like maybe something along the lines of 80%? Especially given that we have ambitious targets for advanced growth and the deposit environment still seems to be a little bit challenging. So our deposit engine has started firing. Well, in fact, we are monitoring this across all our 14 regions on a daily basis. And the acquisition has been very healthy. So given that, we believe that, you know, the 75% is good, but we do have headroom, technically we can go up to about 80% also. And that 80%, it is not a stretch at all. It will be very comfortable. And there is also the deposit engine, which is funding the growth on advances. So there's a very calibrated growth on both sides. One last suggestion, point taken about the one time expenses. It would be great if in the future you could incorporate a slide where you sort of give us the pro forma financials and the other way Roe numbers, excluding the one time expenses. So this analyst, it becomes a lot easier for us to have that data just a suggestion. Point taken. And in fact, this time, even in our industry presentation, we have called it out very clearly in the slides. But yes, we have not done a scenario which is with and without, because technically we will check it out. But yes, point taken. And with analysts, we are explaining this, and this is one of non recurring expense, as I mentioned earlier. This is due to the wage settlement and actuarial provisioning that has been made. We could have done it in multiple quarters like many other banks, but we thought that it is prudent to have this done because we have done well in terms of our strong financials. So we thought that it would be prudent to do it in this quarter itself. Thank you, sir, and best of luck for the year ahead. Thank you, Darshan. Thank you. The next question is from the line of Prakriti Banka from HSBC mutual funds. Please go ahead. Good evening, Prakati. Yeah. Hi. Good evening. Good evening. So I would just request you to publish your results and give us enough time in the future to sort of go before we come for the call so that it is more fruitful for you and for us as well. Point taken, ma'am. Surely you can always reach out to us. No, sure. It's just that, you know, I mean, right now I'm on the roads. I haven't even, you know, the questions is this probably going to be something that I could have gotten, will be getting out of the presentation as well, so it's just a better use of all our time. Yeah, just quickly. I mean, I'll probably join back once I've had a chance to go through the numbers better. But within retail, what is this? What are the segments that are driving your growth? So within retail, you know, on the asset side, primarily, this has been gold loan and housing loan. These are two flagship products which has resulted in a good growth rate. Middle market, which is comprising of MSME, also has been kicking in. Well, so the ratios, if you really look through these are the three main sectors which have contributed to the growth. On the asset side, on the deposit side, 90% of our deposits are two gross and lesser. So this is something which we believe that is very healthy. And one more product that the bank is looking at. And since we do not have a credit card product from the retail assets, and as you are aware, that, you know, 90% of our book has been collateral based on the advances side. So for the first time, you know, the board has approved a policy for unsecured. And this will be primarily driven by the credit line. On UPI as a product and we are engaged with one of the leaders in this space, large fintech NBFC. And we believe that with that will be the beginning of our launching of retail asset program including unsecured. Got it, got it. MSME growth. How much did you say that was? Because you were also in the process of revamping your risk assessment, etcetera of MSMe. Right. So maybe what I thought that was going to be coming a little later. Are we ready with that right now? No, we, that is still wip. But the growth in terms of the overall MSME business has been about 18% to 20% so far. And our investor presentation has the sector wise growth in terms of both advances and asset quality which is again for the first time we have divided that, you know, by sector in both the cases. So that will give you an idea. But just to call out now MSME is about 24.7%, retail is about 24.4% and agree is about 13%. So if you total this three, you know, we are closer to 63% as I said. And if you add the SME's like a little more and then that leaves only the larger corporates and the others NBSCs. Got it. Got it. Also just mix, you know the main drivers that you mentioned in retail is are these going to be the main drivers because I mean housing, from what I understand, what is the competitive scenario like and would that be dilutive from where you are right now? We are approaching this in a slightly different way, this entire system. So what we are trying to do, we have a lot of builder relationships in the key cities. So particularly in Bangalore, Mangalore, Chennai and a couple of other places we have this huge builder tires. Now construction level financing which leads retail into housing loans and construction financing in the commercial side which will lead us into a LRD product is something that is being promoted at the branch level. So between Shekhar and I, we have been going to all the regions and doing reviews with the branches to that level of granularity is what we are doing ourselves. And we are promoting the relationships as well as the business which will be packaged so that we have a continuous relationship not just ending with a construction loan but which will gradually become a longer term relationship with multiple counterparties associated with them. And just to give you the sector wise on this credit portfolio also as I was saying, even on the quantum retail, up to seven, seven and a half crores is almost like 67% of our portfolio within retail and 7.5 to up to 100 crores. Is the balance which is the 33% which is comprising of the micro mid corporate and the SME levels. Got it? All right. Okay thanks so much. I'll get back in the queue. Thank you so much. Thank you. Ladies and gentlemen the next question is from the line of Sarvesh Gupta from maximal capital. Please go ahead. Hi Sarveh, good evening. Good evening sir. Again as a suggestion it would be great if you can follow the best practices of some other peer bank like federal etcetera for presenting this because a there is no time which has been given for the analyst to understand, you know what has come in the presentation. There's hardly any time between the dispersal of the result and the analyst call b. You know they barring one slide sir all the other sites are pertaining to financial year so it is not, you know we are not able to make out, you know what has happened in the quarter. It is more like a financial year presentation. So point noted and apologies on this. This is a day which was you know very important from a board perspective because we had, we handle many more other progressive and very developmental kind of agenda items. Yes, we will give you more time and we will ensure that this is not repeated again. Yes sir. And we are available for any calls later on if you do want to ask questions. After looking at our investor PPT which has been uploaded into our website we are happy to answer calls later. You can reach out to us and sir on the questions part. So you know last financial year in four q we had shown our degrowth because we had, you know gone on a strategy to increase our retail mix for this year. Overall. If I see the mix has actually gone again in the favor of large corporates and we have also seen a steep decline in the the name. So this is something which is slightly contra to our understanding of the bank strategy. I think that you know if you look through our growth in the advances portfolio it is not what you are saying because our growth in retail on NAND book of closer to 13,000 crores. You know if we have maintained the same mix of business at two thirds coming from retail and MSME and agree. So we believe that we have done well because we have not gone into the corporate side. That is one. The second is the large corporates. Out of that there is a portion which is large corporate which is very let's say high end PSU, opportunistic treasury kind of lending and there is a portion which is the longer term corporate lending but without products. So this is where we are going to do a churn as a strategy this year to develop a midsize corporate business. And we have recruited mid sized corporate wholesale banking head. He comes from BBs and Standard Charter bank. He was running the business in those banks. And we believe that the relationship, relationships that, you know, along with him and the bank will be able to focus and grow that. So between the growth that we have already demonstrated this year, last year, just to kind of call it out, there was a very clear decision to get out of very high cost deposits and in the process to kind of get some of these loans repay. But this has not happened this year. So deposit is growing in excess of the. Whatever that liquidity which we have deployed is what we are doing this. And these are all short term loans which are more market rate based. So the last point which you asked about was NIMs for a growing bank and for a bank which is embarked on a transformation journey like us, we believe that anywhere is a very, very good kind of a range. We have actually exceeded that range to be about 3.51. The last year was different because it was a limited size book, but in the enhanced book, and despite the huge pressure on NIMS across all banks, on deposits, because this is actually deposits which is, you know, impacted us and not the loan yield, as I said earlier. So we believe that, you know, we should be able to take this even better because even if deposit and the interest rates are not very favorable, we believe that the growth in retail would give us a kicker in the yield and would improve this current loan yield from 9.9 to probably a little more. So we believe that maintaining NiM and growing this within the range that we have guided, which is 3.5 to 3.7 is possible. And this is good for us from our perspective. What sort of growth guidance will you be factoring in? Because this time we have got 19%, but that is on the back of four Q 23, which was a degrowth quarter. So now going forward, what sort of advances growth rate are you penciling in? So we are targeting technically anywhere between 20 to 20% to 21% as far as the growth in advances is concerned. And this is on the book, which is at 73 crores and 73,000 crores. And we believe that anywhere between 15 to 60,000 crores more. If we had. We are growing much ahead of the market. And this was my stated objective when I took charge, saying that three years, which was way back in June 23, before we even settle down in the bank, I said that we should be looking at 100,000 crore advances book exit March 26 and I think we are sticking to that and we are very well on track as far as the run rate is concerned around cost to income. Now, if I adjust this 153 plus eleven crores, then we are already at a 50% cost to income. Now, last year we had also sort of put in a lot more resources to sort of increase the retail mix and all. So going forward, are you expecting any sort of benefits flowing in from the cost to income going down from this 50% that is there in FY 24? So there are two parts to this. One is that we have to limit our cost and the second is to increase our income. Now, both are the strategies that we are adopting. So the cost part of it, over the last eight to ten months, we have brought in lateral leadership teams, we have a new CIO, we have a new chief product officer, we have a new wholesale and a midsize corporate business head. We have a IR and a partnership head. We have all such very specialist kind of recruitments already done. The second is that our baseline technology we have added. So we have embarked on a project which is to make sure that our entire digitized platforms, our analytics driven platforms, are all fully in swing. So basic investment, baseline investment related to that, and the architectural part to scale up in terms of volumes, reliability and scalability, has also been done from a technology perspective. Last one is that we were focusing a lot on process. So there are a lot of process improvements that have been done, including centralization. We're setting up a national back office in Mangalore, and we believe that that would result in a lot of cost efficiencies, as well as operational efficiencies, by releasing bandwidth at the branches for doing more sales. Last part is about investment into people, sales teams. As you are aware, we are a bank where the feet on street and the sales teams have low fixed costs and higher variable costs. So we have rolled out a variable pay program which is based on performance, basically, you know, increasing in business, even at a branch level. So over and above the pay scales that are currently there, whether they are IBA based or whatever, we still have this variable pay program, which we have launched, which are linked to targets and which are linked to performances. And this includes group targets, which is a branch target also. So we want to make sure that all of the distribution outlets that we have are all meeting targets and actually becoming more and more productive. The last one year, we have made sure that the contribution, which is the business contribution volume by employee, has improved significantly. And we want to increase that even further. So sir, are you expecting this 50% to go down materially this financial year? There are other, you know, earlier this was asked by someone. So I had also committed saying that, you know, we will bring this cost to income to closer to sub 50 by the end of this financial year. FY 25. Okay sir. And sir, finally now our credit cost has come at 0.80%. So how do you see that playing out in the coming year? Is it what would be the gross credit cost? And have you seen a lot of recovery this year which has helped this partially or, you know, how do you see it coming? So banking industry works around 1%. So obviously, you know, we have done well this year, but we believe that even anywhere between one up to 1% is good. But we do have a good recovery rate even now as I speak to you, because this is, you know, working very well because the overall GNP numbers, the slippages have come down and recoveries have been very, very healthy. And we believe that this quarter and the following quarters this year also we would have some healthy recoveries which would have impact. So I guess we would be hovering around between 0.85 to 100 under business. Understood sir, thanks a lot and thank you so much for the coming. Thank you. The next question is from the line of Sushil Choksy from Indus Equity advisors. Please go ahead. Good evening, Sushil sir, good evening. Congratulations to Team Karnataka for having an excellent year in terms of fundraise and various aspirations. You know, the first question you are answered to, the first questionnaire about the aspiration grew to 90,000 to one lakh crore between 25 and 26. To sustain that kind of credit growth, how are we working towards human resource and credit deposit mobilization? Thank you sir, for the compliments. And yes, this is the next phase of growth. So basically what we have done is that we have set up the baseline in terms of setting ourselves up for growth in the advances as well as for the deposit side. So there are three parts as far as the deposit is concerned. One is that there is a franchise which is through the branches. The second is through the sales teams because we created a sales organization. The third is that for our existing to bank etbs, we have a data driven analytics platform which gives a lead generation on the basis of behavior and transactional behavior of each of our clients. And this is kicked in very well. So on a regular basis from the back end, from the analytics centro excellence, we are pumping in data to say that who are our targets for FDS? Who are our targets for third party products like insurance, who are our product, who are our target for converting dormant account into an active account and so on. So basically this has been on the deposit side as far as the loan engine is concerned. We have very clearly done some verticals. We also got it in the investor presentation. So we have already made an offer to a retail asset and the MSME business head, he is joining us shortly. And we already have our midsize corporate business head who has been in the system for about last 45 days. And we already have started a lot of process transformation, specifically on the credit processes by deploying one of our world class Singapore based agencies who have got a lot of banking experience in India. So they are all professional risk and credit managers who have been in larger banks. So they have, this is a twelve month project. So between the new people coming in, the coverage team, between strengthening credit sanctions and credit processes through this transformational study and also the technology which I called out for on the deposit side, we believe that we have the capital, we have strengthened the key management and the creation of the sales and the customer centric organization. We have increased our product range. We have launched 18 new products in this financial year and these are all CASA and some more are coming in, as I was telling the earlier caller about something on the retail asset side also. So this is going to be a continuous process for both the retail and the MSME advances and on the deposit engine. Okay. What is a sustainable employee cost? Because this year, I suppose IPA would have impacted in the annual payout what is a sustainable employee cost on a year, on year basis. So the last year, you know, if you look through, we have accounted for it ever since number 22 we have been providing for this and it is something that which has already been boxed there. The second thing was that because of the pay scales which were announced just now, we had to do actuarial provisioning for increase in leave, increase in the pension increase in a couple of other retireal benefits and so on, which is the one time that we have incurred on a regular. What is the number on one time? The number on one time is 152 crores. On just this actuarial provisioning in this quarter, the running rate as of March 24, our overall staff, which is including salary plus superannuation benefits is closer to 1372 crores. So if you want to know the number, yeah, it will be anywhere between 1300 to 1400 crores on the overall number. To the previous questionnaire you spoke about financing home loans and construction loans and LRB. Are we targeting more of an affordable segment for a higher yield or we go to normal home loan products like any other bank. We do both sir. And you know, we want to consolidate in markets where we are present. So as I was mentioning earlier, Bangalore, we have over 100 branches. Obviously we want to take advantage of that and we are trying to set up a retail digital factory there which will basically be the unified kind of a retail hub. If we succeed here then we would want to kind of replicate it in major t two, t three locations also because this is the way that the retail business is going and that's where the process transformation process happens. Affordable housing. We have been funding directly to couple of nbscs and if you believe that we could get into some kind of strategic arrangement based on our experience we would definitely be considering that. Also, what kind of debt are we targeting in this segment? Sorry, repeat your question. What kind of tat are we targeting on the segment of housing loans? Gold loans. Gold loans, less than few hours but then the housing loans. So what we are trying to do is that if we have this builder tie up which is what we are aiming then you know, the whole project gets approved and then other than, you know, your aadhaar and your income verification with the individual we do not have to repeat anything related to the documentation and approval. So we believe that we would want to get into t plus one tax as far as the housing loan is concerned on this kind of preapproved projects. The entire banking industry is benefited by RBI division and inclusion in the bond index. JP Morgan Bloomberg what is comforting Karnataka bank treasury on outlook for the current year and will be monetize our treasury for gains and look for more credit growth by booking profit if you get 675, 685. So you know Shekhar is here, our executive director. He will take on this question because you know he is actively involved in managing Trish. But more from an overall perspective, let me tell you that we have, we are managing about close to a, you know, 26 to 30,000 crore treasury book and that's not small. Secondly, we do have positions which are very favorable if the interest rate, you know, movement also become favorable. So at any point of time, opportunity wise we will definitely en catch. But Shekhar, would you be able to work on this? So just on the RBI this? Yeah, there could be some near term impact and we will ride the wave on that and as would happen to most banks there could be some positive impact. So we won't miss the opportunity there. On the slightly midterm to long term there are a couple of events, of course, the big one being the election results and the US elections as well, and the guidance on what we call reference rate. So we are watching it closely, but we see that over the year, all other things considered, there could be some favorable rate movements. Accordingly, we will calibrate our treasury of strategy as well. Thank you for answering my question. Check it. And my last question to Sri. Your strategy in last twelve months has worked towards equity base. Now, your aspirational goal of one lakh crore advances by FY 26 based on your calculation between retained profit and the current equity other than tier one and tier two bond, would you raise equity in next 24 months or there's no equity required? I think we are good up to our 90,000 to one lakh crore target because as you know, we have repaid 720 crores of tier two. And at any point of time, if our capital adequacy is challenged, if interest rates are favorable and our bank growth reflects in better credit rating for us, we'll be able to get some funds at reasonable cost. And we believe that, you know, cost of funding because of the equity we have done already. And we believe that the next round could be a tier two. And with that we will be able to manage very clearly up to this one lakh crore. Congratulations and best wishes for years to come. Thank you so much, sir. Have a good evening. Thank you. The next question is from the line of Prabhal from ambit capital. Please go ahead. Good evening, Prau. Prabhal. Mister Prabal, your line has been unmuted. May I request you to go ahead with your question? Yes, sir. May I request you to use your handset, please? Yes. Is this better now? Yes. Prabhal, good evening. Good evening, sir. The first question is on the movement of NP. If you can highlight. Okay, here you go. So, as far as our entire stress asset is concerned, the NPA net NPA has come down. I will call out some numbers so that, you know, you would be more comfortable. Our total NPA as of March 24 was 25 78 crores. And our without related accounts, our restructured assets has come down to 12.95. So if you look through this as a percentage of gross advances, this is about 5.31%, which is comfortable because for NPA we would have provided for at least up to 65% or sometimes more, depending on the weightages. And on the restructured book, we would have a provision of about 15%. So that is why the coverage, the PCR is also intact. Second is that there is a technical write of book and there is also a recovery, recovery from existing npas, even if it is half and half. We believe that this would contribute to the overall metrics as we go forward because on an average we have been collecting, recovering at least about 300 crores or so. The third is that in terms of, let's say, the historical assets and the new assets, the new assets, we have put in place a lot of credit monitoring mechanisms and we believe that the new book that we have is pretty healthy. And we have also got the earlier book under control because at some point of time, if you are aware, the bank, we were staring at about 4500 crores of restructured book which has come down to less than one third. So we have done well as far as the overall, you know, the quality is concerned. Now, the second part, you know, to your question is related to how would it look going forward. I guess that, you know, we want to get the GNP to about 3% and NNPA to closer to 1.11 to 1.2%. So this is how it will play out as we go forward. Okay. And what was the slippage during the quarter? I think it was 2.2.88 in absolute amount. In absolute amounts. Just hold on. Let me ask my CFO, you go on with your next questions. He'll be pulling out the data. Slippage is actual amount. Last quarter we had some issues with the restructured book which through slippages of 210 crore. How is the trend this quarter and how do you see that going ahead? So, as I was telling you that, you know, with related accounts, our total restructured book has come down to 1580 crores. And without related accounts it's come down to 1295 crores. Now, I think, you know, the better part of that restructured book management has happened already and whatever is left, we are having adequate collateral. So that is something, you know, which is not an issue now in terms of the slippages. You know, just to kind of give you the overall number, 525 27.58 is the position as of March 24 for the quarter and 1650.20 crores is for the full year. As against ten 836 crore for the previous year and as against 587 to 527 for the quarter. So 525 crore for the quarter. Yeah, 525 was the earlier corresponding quarter was 587. But we were having run rate of 300 crore. So last quarter, this 500 crore also included 200 crores from the similar. This is a combined book because what happened is that this I am talking to you including the restructured book which would have resulted in some but overall, as I told you that despite this, the reductions, there are some reductions of closer to 300 crores. As far as I'm only talking about additions and reduction. The additional 527, the reduction was 305. So the net impact is something that, you know, you do have write offs are, you know, lesser and the closing balance is not as much as what it used to be earlier. And likewise on the annual basis also it has dropped from ten, 836 to 1650. So which means? Which means that, you know, closer to about 50, 50 crores per quarter. Okay. Out of this 305 crore, how much would be write offs and how much would be recovery? 305, including write offs. Okay. And write offs would be how much? I think 1100 8180 for the quarter total recovery is close to 500. The second question would be if you can provide the exact loan yield and cost of funds for the quarter, at what rate did we exit the four cure load loan yield is 9.9% for the entire year and cost of funds is 5.5.32. And for the quarter this would be quarter will quarter once again hold on around 5.4. For the quarter on quarter of deposits and loan is around 9.75. Q one q has come down, is it? This is only the last quarter because of the mix of the business a little bit. But then overall for the year we have maintained it at 9.9. But, you know, you mentioned that the growth came from retail and MSME. So ideally Q one q yields would have improved. So there's something which, you know, you need to understand that the last year, two thirds of our book comprises, as I said, wherein within the two thirds, 45% is retail and agri and about 20% is MSME and SME. Now these three are different in nature. Out of that, the retail flagship products are housing loan and gold loan. These are the two gold is better yield, but gold loan doesn't grow that much. So obviously we've been calibrating that. But housing loan constitutes almost like one fourth of our overall retail assets. So the rates in home loans right now, as you are aware, the market has been very competitive. So we also have been doing at 8.6 as a product. But given that, obviously it is not like the earlier home loans which have been running at the higher rate, but on a blended basis, we are still good. Okay. So if this is to continue, then the yield would be either stable or it could further come down under pressure. Given cost of deposits. We are predicting that. So we have almost maxed out on the cost of deposits and we will also see. So we had taken year before last some 555 day deposit program and all those things. And those are coming out from what we call headline interest rate to lower interest rate. So we would see clearly taping down, tapering down of interest rate. And the guidance also on the larger market side also is on the interest rates coming down. Interest rates coming down. So we will see improvements in NIM and primarily led by what you call moderating of deposit, cost of deposit and also the increase in the loan yield because of the mix that we have been looking at. And as I said to our earlier caller, we are launching couple of retail asset products which are for the first time in this bank are going to be unsecured. And this would perhaps have a better yield. Also it is not that we won't mess up on the numbers, but at least these are like a good start that we want to do. Other income. If you can break this up into safety income and casually recoveries that we are delivering other income. Okay. Can we send that to you? Yeah, sure. You can send that to us. And also if the CP, CP one number percentages available because I could not find that 1 second. Hold on. In fact he said he's calling out here it is there 1318.91 as again 992.58. Lasco. You got it prabhat? No sir. So it is at 1318.91 as against 992.58 last year. Out of that, the breakup he wanted. So the breakup is. So I wanted breakup of other income during the quarter. We'll send that to you. Basically there are four headline items there. One is commission and exchanges. Other is recovery from, you know, right off accounts, income from ATM and other channels, etcetera. Depreciation on investment, depreciation on investment which is essentially trading profits. So we will give you the breakup. I will send it to you. So we have been building such a super team and we are also getting retail head then wholesale banking. How are you attracting these people and what is their, what is their compensation like in terms of whether they are being given a shop or how is it like. So this entire, you know, management team that has joined us, at least about six, seven of them have all come in on a CDC basis. That's one. The CDC comprises of obviously fixed and a variable. And within the variable about 50% of their variable based on performance would be through grant of shares, which is as part of the existing scheme that we have. So it is not that we are attracting people with ESOP. They are all coming in with very clear opportunity as a target working with the new management to transform the bank and really clear the path as far as the growth journey is concerned. So we are really, we have done well in terms of attracting the right talent and who are culturally fitting into the bank and working and integrating with an existing team of veterans from Karnataka bank. So if you go to our investor presentation now, you will see that, you know, we are almost like a 50 50 from an overall general management perspective in terms of the number of people. We have had two of our very senior COO and CBO whose contract is getting over now as of May 31, we have done some restructuring and that is how we have presented this experience management team where between the existing and the new, you know, we have been kind of balancing it out going forward. As I said, we have already given an offer for head of retail and MSME advances and also head of retail collections. So those are all one or two positions that are key and strategic. We also recruited recently head of digital under our chief digital officer who has also come from X City, HDSE and so on. So that way we've been able to attract talent and as I said, on the basis of CTC and the mix of variable which includes the stock, but then within the variable. Thank you, sir. All the best. Thank you so much. Thank you. The next question is from the line of Sanjay Shah from KSA Securities Private Limited. Please go ahead. Yeah. Good evening gentlemen and part two, a really exciting year which we understand from the hardship what you have taken after taking over as a new management. My question was very broad based. What changes you have seen in the bank after you coming in and what you see with this digital support, technology support bringing in some fintech partnership, partnership. How do you see that our bank doing from next year onwards, current year onwards? Thank you Sanjay bhai for the compliments. And yes, it has been exciting for all of us because we are not only joined by new management, but the existing management and the entire workforce at Karnataka bank are quite thrilled and participating actively in this transformation journey. So there are three things that we did. One is that we created the headroom as far as capital is concerned. The second thing that we did was we strengthened the management team. The third thing that we are doing is simplifying and organizing our processes and centralization and all that which basically includes creating a national back office in Bangalore, which is very good because we got a lot of infrastructure and very good people here. And in terms of expanding our business, obviously there is a cultural shift which is where we are making our entire organization outbound, outward looking with sales orientation and making sure that the sales organization and the sales culture settles in well. Along with that, we also have benchmarked and digitized a lot of products, both from a customer benefit as well as internal process on tats and so on. So this has been the next progressive thing that we have done. Last but not the least, we kind of, while we increase awareness through our new repositioning of our brand, we also have attracted a lot of partnerships for products that we don't have to manufacture. So especially on the digital and client acquisitions through partners which are in three or four different specific areas, specifically on distribution products through insurance and investments and so on, we have forge new partnerships. We have actually done partnerships on insurance, both life as well as non life, and also integrating with them on the digital side. And last but not the least is the coal ending, where we have been very carefully selecting sourcing partners for us with our credit standards related to MSME and impact based lending. It is also some on the personal loan side. So we've been calibrating this and testing the orders on our overall acquisition side of the advances also. So it's a combination of all of this initiatives that we have taken and we believe that with all this, when the whole indian runs this year and for following years, we will be able to generate much more in terms of overall volumes. That's great. So carry forward our traditional business. We are focusing on some asset origination tie ups from which we can grow from here, like coal lending with UB and north Arc and all. So we wish you good luck for that. And we also see that exciting time coming for us in quarters to come. So my second question was regarding our can you give us what is the average loan book size of for our housing loan? Average loan book. So just to kind of, you know, summarize the earlier conversation and you wanted to know, we are doing this co lending selectively. It's not that, you know, we are going all out on that, that's just one more avenue new for us as far as our business acquisition is concerned. So that we test the waters. Overall, our loan average, I would say that, you know, if you take our overall wholesale plus retail and housing etcetera, 40 to 50 lakhs could be an average per loan ticket size. But actually that is to be looked at by segment because in a by segment averages are very different. Housing loan segment is different, gold loan is different. Then your Mitsaic corporate loan MSME is different. So we do have the breakup which we have given in our sectoral asset advances slide in the investor presentation uploaded already. Yeah, I will go through that so I can take it. For this housing loan issue, it could be around 40 50 lakhs. It will be lesser actually it will be more like about 30 35 lakhs. Because you know, we are actually in metros, it is higher but wherever we are operating in mini metros, as you are aware, and that is, you know, that where it comes down a little bit. Thank you sir. Thanks for. Thank you ladies and gentlemen, that is the last question for today. I would now like to end the conference over to Mister Sri Krishna and age for closing comments. I wish to thank the faith that the investment community, capital market community and the institutional investors have reflected on the bank specifically on the management and path and the plans that we have been talking about in the market. This is exciting time for us because one is articulation of our strategy, but the more important part is execution of our strategy. So we are on the execution mode right now. Whatever that we needed to do in terms of creating the headroom and putting the right resources and empowering them is something that we have done. We are actually beefing up the technology side to make sure that the architecture and the whole scaling up is something which is possible and all the investments related to that are being made and have been made already. And given this, we are rightly positioned for growth as reflected in the guidance so far in the call. And happy to take on any questions later on on a one on one basis as and when any of the investors would like to. Thank you for your time, all of you, and thank you for taking the trouble to dial in. Good evening to all of you. Thank you on behalf of Karnataka bank. That concludes this conference. Thank you for joining us and you may now disconnect your lines.\n"
     ]
    }
   ],
   "source": [
    "print(transcript.text)"
   ]
  },
  {
   "cell_type": "code",
   "execution_count": 18,
   "metadata": {},
   "outputs": [],
   "source": [
    "with open('transcripts/transcript.txt','w+') as f :\n",
    "    f.write(transcript.text)"
   ]
  },
  {
   "cell_type": "code",
   "execution_count": null,
   "metadata": {},
   "outputs": [],
   "source": []
  },
  {
   "cell_type": "code",
   "execution_count": 60,
   "metadata": {},
   "outputs": [
    {
     "data": {
      "text/plain": [
       "True"
      ]
     },
     "execution_count": 60,
     "metadata": {},
     "output_type": "execute_result"
    }
   ],
   "source": [
    "import os\n",
    "from dotenv import load_dotenv\n",
    "from langchain_openai import OpenAIEmbeddings, chat_models\n",
    "from langchain_community.vectorstores import Pinecone as Pineconelangchain\n",
    "from pinecone import Pinecone\n",
    "from langchain.chains import ConversationalRetrievalChain\n",
    "from langchain.document_loaders import AssemblyAIAudioTranscriptLoader\n",
    "from langchain_community.document_loaders.assemblyai import TranscriptFormat\n",
    "from langchain.text_splitter import RecursiveCharacterTextSplitter\n",
    "\n",
    "load_dotenv()\n"
   ]
  },
  {
   "cell_type": "code",
   "execution_count": 51,
   "metadata": {},
   "outputs": [],
   "source": [
    "import assemblyai as aai\n",
    "config = aai.TranscriptionConfig(punctuate=False,format_text=False)"
   ]
  },
  {
   "cell_type": "code",
   "execution_count": 52,
   "metadata": {},
   "outputs": [
    {
     "name": "stdout",
     "output_type": "stream",
     "text": [
      "loading transcript...\n"
     ]
    }
   ],
   "source": [
    "audio_file = \"https://khazanchi.co.in/files2/Khazanchi%20Jewellers%20Limited%20Earning%20Call%20Audio%20-%20H2%20FY24%20(1).mp3\"\n",
    "print(\"loading transcript...\")\n",
    "loader = AssemblyAIAudioTranscriptLoader(\n",
    "    file_path=audio_file,config=config)\n",
    "raw_docs = loader.load()\n",
    "\n"
   ]
  },
  {
   "cell_type": "code",
   "execution_count": 58,
   "metadata": {},
   "outputs": [
    {
     "data": {
      "text/plain": [
       "langchain_core.documents.base.Document"
      ]
     },
     "execution_count": 58,
     "metadata": {},
     "output_type": "execute_result"
    }
   ],
   "source": [
    "type(raw_docs[0])"
   ]
  },
  {
   "cell_type": "code",
   "execution_count": 53,
   "metadata": {},
   "outputs": [
    {
     "name": "stdout",
     "output_type": "stream",
     "text": [
      "splitting\n",
      "Splitted into 103 documents\n"
     ]
    }
   ],
   "source": [
    "print(\"splitting\")\n",
    "text_splitter = RecursiveCharacterTextSplitter(\n",
    "    chunk_size=400,\n",
    "    chunk_overlap=20,\n",
    "    separators=[\"\\n\\n\",\"\\n\",\" \",\"\"]\n",
    ")\n",
    "\n",
    "documents = text_splitter.split_documents(raw_docs)\n",
    "\n",
    "print(f\"Splitted into {len(documents)} documents\")   "
   ]
  },
  {
   "cell_type": "code",
   "execution_count": 5,
   "metadata": {},
   "outputs": [],
   "source": [
    "embeddings = OpenAIEmbeddings()"
   ]
  },
  {
   "cell_type": "code",
   "execution_count": 45,
   "metadata": {},
   "outputs": [],
   "source": [
    "#documents_texts  = [{\"page_content\": d.page_content,\"metadata\":d.metadata} for d in documents]"
   ]
  },
  {
   "cell_type": "code",
   "execution_count": 61,
   "metadata": {},
   "outputs": [],
   "source": [
    "documents_texts = [d.page_content for d in documents]"
   ]
  },
  {
   "cell_type": "code",
   "execution_count": 62,
   "metadata": {},
   "outputs": [
    {
     "data": {
      "text/plain": [
       "<langchain_community.vectorstores.pinecone.Pinecone at 0x297de652510>"
      ]
     },
     "execution_count": 62,
     "metadata": {},
     "output_type": "execute_result"
    }
   ],
   "source": [
    "Pineconelangchain.from_texts(documents_texts,embeddings,index_name=os.environ[\"PINECONE_INDEX_NAME\"],)"
   ]
  }
 ],
 "metadata": {
  "kernelspec": {
   "display_name": "GenAIENV1",
   "language": "python",
   "name": "python3"
  },
  "language_info": {
   "codemirror_mode": {
    "name": "ipython",
    "version": 3
   },
   "file_extension": ".py",
   "mimetype": "text/x-python",
   "name": "python",
   "nbconvert_exporter": "python",
   "pygments_lexer": "ipython3",
   "version": "3.11.7"
  }
 },
 "nbformat": 4,
 "nbformat_minor": 2
}
